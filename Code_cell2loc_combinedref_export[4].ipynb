{
 "cells": [
  {
   "cell_type": "code",
   "execution_count": null,
   "id": "c5e5e303",
   "metadata": {},
   "outputs": [],
   "source": [
    "import sys\n",
    "import scanpy as sc\n",
    "import anndata\n",
    "import pandas as pd\n",
    "import numpy as np\n",
    "import os\n",
    "\n",
    "data_type = 'float32'\n",
    "\n",
    "# this line forces theano to use the GPU and should go before importing cell2location\n",
    "# os.environ[\"THEANO_FLAGS\"] = 'device=cuda0,floatX=' + data_type + ',force_device=True'\n",
    "# if using the CPU uncomment this:\n",
    "os.environ[\"THEANO_FLAGS\"] = 'device=cpu,floatX=float32,openmp=True,force_device=True'\n",
    "\n",
    "import cell2location\n",
    "\n",
    "from scipy import io\n",
    "from scipy.sparse import coo_matrix, csr_matrix\n",
    "\n",
    "import matplotlib as mpl\n",
    "from matplotlib import rcParams\n",
    "rcParams['pdf.fonttype'] = 42\n",
    "import matplotlib.pyplot as plt\n",
    "import seaborn as sns\n",
    "\n",
    "# silence scanpy warnings\n",
    "import warnings\n",
    "warnings.filterwarnings('ignore')"
   ]
  },
  {
   "cell_type": "code",
   "execution_count": null,
   "id": "31b71118",
   "metadata": {},
   "outputs": [],
   "source": [
    "sc_data_folder = '/Users/saradhamiriyala/Desktop/Cui_Lab_Bioinformatics/cell2loc/data'\n",
    "results_folder = '/Users/saradhamiriyala/Desktop/Cui_Lab_Bioinformatics/cell2loc/results/P1MID7_refCOMBINED_analysis/'\n",
    "\n",
    "if os.path.exists(results_folder) is not True:\n",
    "    os.mkdir(results_folder)\n",
    "\n",
    "# create paths and names to results folders for reference regression and cell2location models\n",
    "ref_run_name = f'{results_folder}/reference_signatures'\n",
    "run_name = f'{results_folder}/cell2location_map'"
   ]
  },
  {
   "cell_type": "code",
   "execution_count": null,
   "id": "3b0026e7",
   "metadata": {},
   "outputs": [],
   "source": [
    "# read in snRNA reference h5ad file\n",
    "adata_snrna_raw = anndata.read_h5ad(\"/Users/saradhamiriyala/Desktop/Cui_Lab_Bioinformatics/cell2loc/data/ref_data_combined.h5ad\")\n",
    "\n",
    "# find mitochondria-encoded (MT) genes\n",
    "adata_snrna_raw.var['MT_gene'] = [gene.startswith('mt-') for gene in adata_snrna_raw.var_names]\n",
    "\n",
    "# remove MT genes for spatial mapping (keeping their counts in the object)\n",
    "adata_snrna_raw.obsm['MT'] = adata_snrna_raw[:, adata_snrna_raw.var['MT_gene'].values].X.toarray()\n",
    "adata_snrna_raw = adata_snrna_raw[:, ~adata_snrna_raw.var['MT_gene'].values]"
   ]
  },
  {
   "cell_type": "code",
   "execution_count": null,
   "id": "9cc87b44",
   "metadata": {},
   "outputs": [],
   "source": [
    "# add cell type labels as columns in adata.obs (select col index with barcode)\n",
    "labels = pd.read_csv(\"/Users/saradhamiriyala/Desktop/Cui_Lab_Bioinformatics/cell2loc/data/ref_data_combined_metadata.csv\", index_col=26)\n",
    "labels = labels.reindex(index=adata_snrna_raw.obs_names)\n",
    "adata_snrna_raw.obs[labels.columns] = labels\n",
    "adata_snrna_raw = adata_snrna_raw[~adata_snrna_raw.obs['CellType_New'].isna(), :]"
   ]
  },
  {
   "cell_type": "code",
   "execution_count": null,
   "id": "2057d192",
   "metadata": {},
   "outputs": [],
   "source": [
    "from cell2location.utils.filtering import filter_genes\n",
    "selected = filter_genes(adata_snrna_raw, cell_count_cutoff=5, cell_percentage_cutoff2=0.03, nonz_mean_cutoff=1.12)\n",
    "\n",
    "# filter the object\n",
    "adata_snrna_raw = adata_snrna_raw[:, selected].copy()"
   ]
  },
  {
   "cell_type": "code",
   "execution_count": null,
   "id": "1cdcbe74",
   "metadata": {},
   "outputs": [],
   "source": [
    "# prepare data for the regression model\n",
    "cell2location.models.RegressionModel.setup_anndata(adata=adata_snrna_raw,\n",
    "                        batch_key='group',\n",
    "                        labels_key='CellType_New'\n",
    "                       )"
   ]
  },
  {
   "cell_type": "code",
   "execution_count": null,
   "id": "13fa20a7",
   "metadata": {},
   "outputs": [],
   "source": [
    "# create the regression model\n",
    "from cell2location.models import RegressionModel\n",
    "mod = RegressionModel(adata_snrna_raw)\n",
    "\n",
    "# view anndata_setup\n",
    "mod.view_anndata_setup()"
   ]
  },
  {
   "cell_type": "code",
   "execution_count": null,
   "id": "458286e7",
   "metadata": {},
   "outputs": [],
   "source": [
    "mod.train(max_epochs=250, use_gpu=False)"
   ]
  },
  {
   "cell_type": "code",
   "execution_count": null,
   "id": "19ef93ee",
   "metadata": {},
   "outputs": [],
   "source": [
    "mod.plot_history(20)"
   ]
  },
  {
   "cell_type": "code",
   "execution_count": null,
   "id": "a797114b",
   "metadata": {},
   "outputs": [],
   "source": [
    "# export the estimated cell abundance (summary of the posterior distribution).\n",
    "adata_snrna_raw = mod.export_posterior(\n",
    "    adata_snrna_raw, sample_kwargs={'num_samples': 1000, 'batch_size': 2500, 'use_gpu': True}\n",
    ")\n",
    "\n",
    "# Save model\n",
    "mod.save(f\"{ref_run_name}\", overwrite=True)\n",
    "\n",
    "# Save anndata object with results\n",
    "adata_file = f\"{ref_run_name}/sc.h5ad\"\n",
    "adata_snrna_raw.write(adata_file)\n",
    "adata_file"
   ]
  },
  {
   "cell_type": "code",
   "execution_count": null,
   "id": "5e0bd219",
   "metadata": {},
   "outputs": [],
   "source": [
    "adata_snrna_raw = mod.export_posterior(\n",
    "    adata_snrna_raw, use_quantiles=True,\n",
    "    # choose quantiles\n",
    "    add_to_varm = [\"q05\",\"q50\", \"q95\", \"q0001\"],\n",
    "    sample_kwargs = {'batch_size': 2500, 'use_gpu': False}\n",
    ")"
   ]
  },
  {
   "cell_type": "code",
   "execution_count": null,
   "id": "a23ce2bb",
   "metadata": {},
   "outputs": [],
   "source": [
    "mod.plot_QC('q50')"
   ]
  },
  {
   "cell_type": "code",
   "execution_count": null,
   "id": "021dd5f9",
   "metadata": {},
   "outputs": [],
   "source": [
    "# export estimated expression in each cluster\n",
    "if 'means_per_cluster_mu_fg' in adata_snrna_raw.varm.keys():\n",
    "    inf_aver = adata_snrna_raw.varm['means_per_cluster_mu_fg'][[f'means_per_cluster_mu_fg_{i}'\n",
    "                                    for i in adata_snrna_raw.uns['mod']['factor_names']]].copy()\n",
    "else:\n",
    "    inf_aver = adata_snrna_raw.var[[f'means_per_cluster_mu_fg_{i}'\n",
    "                                    for i in adata_snrna_raw.uns['mod']['factor_names']]].copy()\n",
    "inf_aver.columns = adata_snrna_raw.uns['mod']['factor_names']"
   ]
  },
  {
   "cell_type": "code",
   "execution_count": null,
   "id": "fccb1624",
   "metadata": {},
   "outputs": [],
   "source": [
    "# view estimated expression in each cluster and save as csv\n",
    "inf_aver.iloc[0:5, 0:5]\n",
    "inf_aver.to_csv(\"/Users/saradhamiriyala/Desktop/inf_aver.csv\")"
   ]
  },
  {
   "cell_type": "code",
   "execution_count": null,
   "id": "1c0f018d",
   "metadata": {},
   "outputs": [],
   "source": [
    "# in read spatial sequencing data h5 file and image\n",
    "adata_vis = sc.read_visium(path = '/Users/saradhamiriyala/Desktop/Cui_Lab_Bioinformatics/cell2loc/data/P1MID7',\n",
    "                          count_file = 'filtered_feature_bc_matrix.h5',\n",
    "                          source_image_path = '/Users/saradhamiriyala/Desktop/Cui_Lab_Bioinformatics/cell2loc/data/P1MID7/spatial/tissue_hires_image.png')\n",
    "adata_vis.obs['sample'] = list(adata_vis.uns['spatial'].keys())[0]\n",
    "adata_vis.var['SYMBOL'] = adata_vis.var_names\n",
    "adata_vis.var.set_index(adata_vis.var_names)\n",
    "\n",
    "# convert data type to float32\n",
    "adata_vis.obs['array_row'] = adata_vis.obs['array_row'].astype('float32')\n",
    "adata_vis.obs['array_col'] = adata_vis.obs['array_col'].astype('float32')\n",
    "adata_vis.obs['in_tissue'] = adata_vis.obs['in_tissue'].astype('float32')\n",
    "adata_vis.obsm['spatial'] = adata_vis.obsm['spatial'].astype('float32')"
   ]
  },
  {
   "cell_type": "code",
   "execution_count": null,
   "id": "181d7174",
   "metadata": {},
   "outputs": [],
   "source": [
    "# find shared genes and subset both anndata and reference signatures\n",
    "intersect = np.intersect1d(adata_vis.var_names, inf_aver.index)\n",
    "adata_vis.var_names_make_unique()\n",
    "adata_vis = adata_vis[:, intersect].copy()\n",
    "inf_aver = inf_aver.loc[intersect].copy()\n",
    "\n",
    "# prepare anndata for cell2location model\n",
    "cell2location.models.Cell2location.setup_anndata(adata=adata_vis, batch_key=\"sample\")"
   ]
  },
  {
   "cell_type": "code",
   "execution_count": null,
   "id": "f48ef860",
   "metadata": {},
   "outputs": [],
   "source": [
    "# create and train the model\n",
    "mod = cell2location.models.Cell2location(\n",
    "    adata_vis, cell_state_df=inf_aver,\n",
    "    N_cells_per_location=10,\n",
    "    detection_alpha=20\n",
    ")\n",
    "mod.view_anndata_setup()"
   ]
  },
  {
   "cell_type": "code",
   "execution_count": null,
   "id": "c8a3ea44",
   "metadata": {},
   "outputs": [],
   "source": [
    "mod.train(max_epochs=5000,\n",
    "          # train using full data (batch_size=None)\n",
    "          batch_size=None,\n",
    "          # use all data points in training because\n",
    "          # we need to estimate cell abundance at all locations\n",
    "          train_size=1,\n",
    "          use_gpu=False,\n",
    "         )\n",
    "\n",
    "# plot ELBO loss history during training\n",
    "mod.plot_history(20)\n",
    "plt.legend(labels=['full data training']);"
   ]
  },
  {
   "cell_type": "code",
   "execution_count": null,
   "id": "8ab4eae2",
   "metadata": {},
   "outputs": [],
   "source": [
    "# export the estimated cell abundance (summary of the posterior distribution).\n",
    "adata_vis = mod.export_posterior(\n",
    "    adata_vis, sample_kwargs={'num_samples': 1000, 'batch_size': mod.adata.n_obs, 'use_gpu': False}\n",
    ")\n",
    "\n",
    "# Save model\n",
    "mod.save(f\"{run_name}\", overwrite=True)\n",
    "\n",
    "# mod = cell2location.models.Cell2location.load(f\"{run_name}\", adata_vis)\n",
    "\n",
    "# Save anndata object with results\n",
    "adata_file = f\"{run_name}/sp.h5ad\"\n",
    "adata_vis.write(adata_file)\n",
    "adata_file"
   ]
  },
  {
   "cell_type": "code",
   "execution_count": null,
   "id": "694a6435",
   "metadata": {},
   "outputs": [],
   "source": [
    "mod.plot_QC()"
   ]
  },
  {
   "cell_type": "code",
   "execution_count": null,
   "id": "7d4ccf31",
   "metadata": {},
   "outputs": [],
   "source": [
    "# plot QC graphs for spatial data\n",
    "fig = mod.plot_spatial_QC_across_batches()"
   ]
  },
  {
   "cell_type": "code",
   "execution_count": null,
   "id": "35ea6097",
   "metadata": {},
   "outputs": [],
   "source": [
    "# add 5% quantile, representing confident cell abundance, 'at least this amount is present',\n",
    "# to adata.obs with nice names for plotting\n",
    "adata_vis.obs[adata_vis.uns['mod']['factor_names']] = adata_vis.obsm['q05_cell_abundance_w_sf']\n",
    "\n",
    "# select one slide\n",
    "from cell2location.utils import select_slide\n",
    "slide = select_slide(adata_vis, 'P1MID7')\n",
    "\n",
    "# plot in spatial coordinates\n",
    "with mpl.rc_context({'axes.facecolor':  'black',\n",
    "                     'figure.figsize': [4.5, 5]}):\n",
    "\n",
    "    sc.pl.spatial(slide, cmap='magma',\n",
    "                  color=[\"B Cells\", \"Blood Cells\", \"CM1\", \"CM2\", \"CM3\", \"CM4\", \"CM5\",\n",
    "                         \"EC\", \"EPI\", \"EndoEC\", \"FB\", \"Glial\", \n",
    "                         \"Macrophage\", \"Pericyte/SMC\", \"T cells\"],\n",
    "                  ncols=4, size=1.3,\n",
    "                  img_key='hires',\n",
    "                  # limit color scale at 99.2% quantile of cell abundance\n",
    "                  vmin=0, vmax='p99.2',\n",
    "                  save=True\n",
    "                 )"
   ]
  }
 ],
 "metadata": {
  "kernelspec": {
   "display_name": "Python 3 (ipykernel)",
   "language": "python",
   "name": "python3"
  },
  "language_info": {
   "codemirror_mode": {
    "name": "ipython",
    "version": 3
   },
   "file_extension": ".py",
   "mimetype": "text/x-python",
   "name": "python",
   "nbconvert_exporter": "python",
   "pygments_lexer": "ipython3",
   "version": "3.10.10"
  }
 },
 "nbformat": 4,
 "nbformat_minor": 5
}
